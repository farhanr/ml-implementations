{
  "nbformat": 4,
  "nbformat_minor": 0,
  "metadata": {
    "colab": {
      "name": "LeNet100.ipynb",
      "provenance": []
    },
    "kernelspec": {
      "name": "python3",
      "display_name": "Python 3"
    },
    "accelerator": "GPU"
  },
  "cells": [
    {
      "cell_type": "code",
      "metadata": {
        "id": "UztzQmBgIIvH",
        "colab_type": "code",
        "outputId": "e93f2630-40ca-4250-a788-5a6ee29ec4ef",
        "colab": {
          "base_uri": "https://localhost:8080/",
          "height": 81
        }
      },
      "source": [
        "# libs import\n",
        "from keras.layers.convolutional import Convolution2D\n",
        "from keras.layers.convolutional import MaxPooling2D\n",
        "from keras.layers.core import Activation\n",
        "from keras.layers.core import Flatten\n",
        "from keras.layers.core import Dense\n",
        "from keras.models import Sequential\n",
        "from keras import models, layers\n",
        "from keras.optimizers import SGD\n",
        "from keras.utils import np_utils\n",
        "from sklearn.model_selection import train_test_split\n",
        "from sklearn.datasets import fetch_openml\n",
        "from tensorflow.python.util import deprecation\n",
        "\n",
        "import matplotlib.pyplot as plt\n",
        "import numpy as np\n",
        "import keras"
      ],
      "execution_count": 0,
      "outputs": [
        {
          "output_type": "stream",
          "text": [
            "Using TensorFlow backend.\n"
          ],
          "name": "stderr"
        },
        {
          "output_type": "display_data",
          "data": {
            "text/html": [
              "<p style=\"color: red;\">\n",
              "The default version of TensorFlow in Colab will soon switch to TensorFlow 2.x.<br>\n",
              "We recommend you <a href=\"https://www.tensorflow.org/guide/migrate\" target=\"_blank\">upgrade</a> now \n",
              "or ensure your notebook will continue to use TensorFlow 1.x via the <code>%tensorflow_version 1.x</code> magic:\n",
              "<a href=\"https://colab.research.google.com/notebooks/tensorflow_version.ipynb\" target=\"_blank\">more info</a>.</p>\n"
            ],
            "text/plain": [
              "<IPython.core.display.HTML object>"
            ]
          },
          "metadata": {
            "tags": []
          }
        }
      ]
    },
    {
      "cell_type": "code",
      "metadata": {
        "id": "-fGPINZtIP1D",
        "colab_type": "code",
        "colab": {}
      },
      "source": [
        "# fetching dataset\n",
        "dataset = fetch_openml('mnist_784')"
      ],
      "execution_count": 0,
      "outputs": []
    },
    {
      "cell_type": "code",
      "metadata": {
        "id": "OCJalnGnISTN",
        "colab_type": "code",
        "colab": {}
      },
      "source": [
        "# reshaping\n",
        "data = dataset.data.reshape((dataset.data.shape[0], 28, 28))\n",
        "\n",
        "# reshaping + add new axis\n",
        "data = data[:, :, :, np.newaxis]"
      ],
      "execution_count": 0,
      "outputs": []
    },
    {
      "cell_type": "code",
      "metadata": {
        "id": "LsNDtEUrIVXN",
        "colab_type": "code",
        "colab": {}
      },
      "source": [
        "# skalakan dari range 0-255 menjadi range 0-1\n",
        "scaled_data = data / 255.0"
      ],
      "execution_count": 0,
      "outputs": []
    },
    {
      "cell_type": "code",
      "metadata": {
        "id": "EZ_5tuKlIXgQ",
        "colab_type": "code",
        "colab": {}
      },
      "source": [
        "# split training & test\n",
        "(x_train, x_test, y_train, y_test) = train_test_split(\n",
        "    scaled_data,\n",
        "    dataset.target.astype(\"float32\"), \n",
        "    test_size = 0.20)"
      ],
      "execution_count": 0,
      "outputs": []
    },
    {
      "cell_type": "code",
      "metadata": {
        "id": "IxsjuqfqIbam",
        "colab_type": "code",
        "colab": {}
      },
      "source": [
        "# transformasi target training dengan one-hot encoding\n",
        "y_train = np_utils.to_categorical(y_train, 10)\n",
        "\n",
        "# transformasi target testing dengan one-hot encoding\n",
        "y_test = np_utils.to_categorical(y_test, 10)"
      ],
      "execution_count": 0,
      "outputs": []
    },
    {
      "cell_type": "code",
      "metadata": {
        "id": "B8S8zMQXIdh6",
        "colab_type": "code",
        "colab": {}
      },
      "source": [
        "# instantiasikan model sequential kosong\n",
        "model = Sequential()"
      ],
      "execution_count": 0,
      "outputs": []
    },
    {
      "cell_type": "code",
      "metadata": {
        "id": "E0TFTgMmKZsr",
        "colab_type": "code",
        "colab": {}
      },
      "source": [
        "# suppress warning\n",
        "deprecation._PRINT_DEPRECATION_WARNINGS = False"
      ],
      "execution_count": 0,
      "outputs": []
    },
    {
      "cell_type": "code",
      "metadata": {
        "id": "YzNcm2MxIe2E",
        "colab_type": "code",
        "colab": {}
      },
      "source": [
        "import warnings\n",
        "warnings.filterwarnings('ignore')"
      ],
      "execution_count": 0,
      "outputs": []
    },
    {
      "cell_type": "code",
      "metadata": {
        "id": "kPmaMohFIg0p",
        "colab_type": "code",
        "outputId": "0b3802a9-600d-42a0-d11f-f4129f1c84ac",
        "colab": {
          "base_uri": "https://localhost:8080/",
          "height": 238
        }
      },
      "source": [
        "# C1\n",
        "# Convolutional\n",
        "model.add(layers.Conv2D(6, kernel_size=(5, 5), strides=(1, 1), activation=\"tanh\", input_shape=(28,28,1), padding=\"same\"))\n",
        "\n",
        "# S2\n",
        "# Pooling\n",
        "model.add(layers.AveragePooling2D(pool_size=(2, 2), strides=(1, 1), padding=\"valid\"))\n",
        "\n",
        "# C3\n",
        "# Convolutional\n",
        "model.add(layers.Conv2D(16, kernel_size=(5, 5), strides=(1, 1), activation=\"tanh\", padding=\"valid\"))\n",
        "\n",
        "# S4\n",
        "# Pooling\n",
        "model.add(layers.AveragePooling2D(pool_size=(2, 2), strides=(2, 2), padding=\"valid\"))\n",
        "\n",
        "# C5\n",
        "# Fully Connected Convolutional\n",
        "model.add(layers.Conv2D(120, kernel_size=(5, 5), strides=(1, 1), activation=\"tanh\", padding=\"valid\"))\n",
        "\n",
        "#Flatten the CNN output so that we can connect it with fully connected layers\n",
        "model.add(layers.Flatten())\n",
        "\n",
        "# FC6 \n",
        "# Fully Connected\n",
        "model.add(layers.Dense(84, activation=\"tanh\"))\n",
        "\n",
        "# Output Layer (softmax activation)\n",
        "# Fully Connected\n",
        "model.add(layers.Dense(10, activation=\"softmax\"))"
      ],
      "execution_count": 0,
      "outputs": [
        {
          "output_type": "error",
          "ename": "NameError",
          "evalue": "ignored",
          "traceback": [
            "\u001b[0;31m---------------------------------------------------------------------------\u001b[0m",
            "\u001b[0;31mNameError\u001b[0m                                 Traceback (most recent call last)",
            "\u001b[0;32m<ipython-input-1-3a83a868f3e1>\u001b[0m in \u001b[0;36m<module>\u001b[0;34m()\u001b[0m\n\u001b[0;32m----> 1\u001b[0;31m \u001b[0mmodel\u001b[0m\u001b[0;34m.\u001b[0m\u001b[0madd\u001b[0m\u001b[0;34m(\u001b[0m\u001b[0mlayers\u001b[0m\u001b[0;34m.\u001b[0m\u001b[0mConv2D\u001b[0m\u001b[0;34m(\u001b[0m\u001b[0;36m6\u001b[0m\u001b[0;34m,\u001b[0m \u001b[0mkernel_size\u001b[0m\u001b[0;34m=\u001b[0m\u001b[0;34m(\u001b[0m\u001b[0;36m5\u001b[0m\u001b[0;34m,\u001b[0m \u001b[0;36m5\u001b[0m\u001b[0;34m)\u001b[0m\u001b[0;34m,\u001b[0m \u001b[0mstrides\u001b[0m\u001b[0;34m=\u001b[0m\u001b[0;34m(\u001b[0m\u001b[0;36m1\u001b[0m\u001b[0;34m,\u001b[0m \u001b[0;36m1\u001b[0m\u001b[0;34m)\u001b[0m\u001b[0;34m,\u001b[0m \u001b[0mactivation\u001b[0m\u001b[0;34m=\u001b[0m\u001b[0;34m\"tanh\"\u001b[0m\u001b[0;34m,\u001b[0m \u001b[0minput_shape\u001b[0m\u001b[0;34m=\u001b[0m\u001b[0;34m(\u001b[0m\u001b[0;36m28\u001b[0m\u001b[0;34m,\u001b[0m\u001b[0;36m28\u001b[0m\u001b[0;34m,\u001b[0m\u001b[0;36m1\u001b[0m\u001b[0;34m)\u001b[0m\u001b[0;34m,\u001b[0m \u001b[0mpadding\u001b[0m\u001b[0;34m=\u001b[0m\u001b[0;34m\"same\"\u001b[0m\u001b[0;34m)\u001b[0m\u001b[0;34m)\u001b[0m\u001b[0;34m\u001b[0m\u001b[0;34m\u001b[0m\u001b[0m\n\u001b[0m\u001b[1;32m      2\u001b[0m \u001b[0;34m\u001b[0m\u001b[0m\n\u001b[1;32m      3\u001b[0m \u001b[0;31m# S2 Pooling Layer\u001b[0m\u001b[0;34m\u001b[0m\u001b[0;34m\u001b[0m\u001b[0;34m\u001b[0m\u001b[0m\n\u001b[1;32m      4\u001b[0m \u001b[0mmodel\u001b[0m\u001b[0;34m.\u001b[0m\u001b[0madd\u001b[0m\u001b[0;34m(\u001b[0m\u001b[0mlayers\u001b[0m\u001b[0;34m.\u001b[0m\u001b[0mAveragePooling2D\u001b[0m\u001b[0;34m(\u001b[0m\u001b[0mpool_size\u001b[0m\u001b[0;34m=\u001b[0m\u001b[0;34m(\u001b[0m\u001b[0;36m2\u001b[0m\u001b[0;34m,\u001b[0m \u001b[0;36m2\u001b[0m\u001b[0;34m)\u001b[0m\u001b[0;34m,\u001b[0m \u001b[0mstrides\u001b[0m\u001b[0;34m=\u001b[0m\u001b[0;34m(\u001b[0m\u001b[0;36m1\u001b[0m\u001b[0;34m,\u001b[0m \u001b[0;36m1\u001b[0m\u001b[0;34m)\u001b[0m\u001b[0;34m,\u001b[0m \u001b[0mpadding\u001b[0m\u001b[0;34m=\u001b[0m\u001b[0;34m\"valid\"\u001b[0m\u001b[0;34m)\u001b[0m\u001b[0;34m)\u001b[0m\u001b[0;34m\u001b[0m\u001b[0;34m\u001b[0m\u001b[0m\n\u001b[1;32m      5\u001b[0m \u001b[0;34m\u001b[0m\u001b[0m\n",
            "\u001b[0;31mNameError\u001b[0m: name 'model' is not defined"
          ]
        }
      ]
    },
    {
      "cell_type": "code",
      "metadata": {
        "id": "ERaHcxWVIiLZ",
        "colab_type": "code",
        "colab": {}
      },
      "source": [
        "# model compiling\n",
        "model.compile(\n",
        "    loss=keras.losses.categorical_crossentropy, \n",
        "    optimizer=\"SGD\", \n",
        "    metrics=[\"accuracy\"]\n",
        "    )"
      ],
      "execution_count": 0,
      "outputs": []
    },
    {
      "cell_type": "code",
      "metadata": {
        "id": "ctJf1bbAIkRh",
        "colab_type": "code",
        "outputId": "62129adc-526d-4576-dfc3-816d2b4ba2ff",
        "colab": {
          "base_uri": "https://localhost:8080/",
          "height": 1000
        }
      },
      "source": [
        "# epoch 100\n",
        "hist = model.fit(\n",
        "    x=x_train,y=y_train, \n",
        "    epochs=100, batch_size=128, \n",
        "    validation_data=(x_test, y_test), \n",
        "    verbose=1\n",
        "    )"
      ],
      "execution_count": 0,
      "outputs": [
        {
          "output_type": "stream",
          "text": [
            "Train on 56000 samples, validate on 14000 samples\n",
            "Epoch 1/100\n",
            "56000/56000 [==============================] - 3s 55us/step - loss: 0.7277 - acc: 0.8132 - val_loss: 0.3618 - val_acc: 0.8964\n",
            "Epoch 2/100\n",
            "56000/56000 [==============================] - 3s 48us/step - loss: 0.3119 - acc: 0.9121 - val_loss: 0.2789 - val_acc: 0.9195\n",
            "Epoch 3/100\n",
            "56000/56000 [==============================] - 3s 48us/step - loss: 0.2556 - acc: 0.9271 - val_loss: 0.2396 - val_acc: 0.9308\n",
            "Epoch 4/100\n",
            "56000/56000 [==============================] - 3s 47us/step - loss: 0.2229 - acc: 0.9368 - val_loss: 0.2120 - val_acc: 0.9385\n",
            "Epoch 5/100\n",
            "56000/56000 [==============================] - 3s 49us/step - loss: 0.1993 - acc: 0.9429 - val_loss: 0.1935 - val_acc: 0.9449\n",
            "Epoch 6/100\n",
            "56000/56000 [==============================] - 3s 49us/step - loss: 0.1814 - acc: 0.9480 - val_loss: 0.1801 - val_acc: 0.9489\n",
            "Epoch 7/100\n",
            "56000/56000 [==============================] - 3s 47us/step - loss: 0.1668 - acc: 0.9526 - val_loss: 0.1660 - val_acc: 0.9536\n",
            "Epoch 8/100\n",
            "56000/56000 [==============================] - 3s 48us/step - loss: 0.1545 - acc: 0.9562 - val_loss: 0.1535 - val_acc: 0.9568\n",
            "Epoch 9/100\n",
            "56000/56000 [==============================] - 3s 46us/step - loss: 0.1437 - acc: 0.9599 - val_loss: 0.1435 - val_acc: 0.9591\n",
            "Epoch 10/100\n",
            "56000/56000 [==============================] - 3s 46us/step - loss: 0.1342 - acc: 0.9624 - val_loss: 0.1347 - val_acc: 0.9619\n",
            "Epoch 11/100\n",
            "56000/56000 [==============================] - 3s 48us/step - loss: 0.1257 - acc: 0.9645 - val_loss: 0.1274 - val_acc: 0.9641\n",
            "Epoch 12/100\n",
            "56000/56000 [==============================] - 3s 46us/step - loss: 0.1184 - acc: 0.9665 - val_loss: 0.1215 - val_acc: 0.9645\n",
            "Epoch 13/100\n",
            "56000/56000 [==============================] - 3s 46us/step - loss: 0.1116 - acc: 0.9691 - val_loss: 0.1143 - val_acc: 0.9671\n",
            "Epoch 14/100\n",
            "56000/56000 [==============================] - 3s 46us/step - loss: 0.1051 - acc: 0.9711 - val_loss: 0.1097 - val_acc: 0.9678\n",
            "Epoch 15/100\n",
            "56000/56000 [==============================] - 3s 46us/step - loss: 0.0997 - acc: 0.9726 - val_loss: 0.1041 - val_acc: 0.9701\n",
            "Epoch 16/100\n",
            "56000/56000 [==============================] - 3s 47us/step - loss: 0.0948 - acc: 0.9737 - val_loss: 0.0987 - val_acc: 0.9705\n",
            "Epoch 17/100\n",
            "56000/56000 [==============================] - 3s 46us/step - loss: 0.0900 - acc: 0.9754 - val_loss: 0.0943 - val_acc: 0.9728\n",
            "Epoch 18/100\n",
            "56000/56000 [==============================] - 3s 47us/step - loss: 0.0857 - acc: 0.9766 - val_loss: 0.0906 - val_acc: 0.9739\n",
            "Epoch 19/100\n",
            "56000/56000 [==============================] - 3s 46us/step - loss: 0.0816 - acc: 0.9779 - val_loss: 0.0872 - val_acc: 0.9741\n",
            "Epoch 20/100\n",
            "56000/56000 [==============================] - 3s 46us/step - loss: 0.0781 - acc: 0.9787 - val_loss: 0.0838 - val_acc: 0.9752\n",
            "Epoch 21/100\n",
            "56000/56000 [==============================] - 3s 46us/step - loss: 0.0747 - acc: 0.9797 - val_loss: 0.0806 - val_acc: 0.9759\n",
            "Epoch 22/100\n",
            "56000/56000 [==============================] - 3s 46us/step - loss: 0.0714 - acc: 0.9806 - val_loss: 0.0785 - val_acc: 0.9770\n",
            "Epoch 23/100\n",
            "56000/56000 [==============================] - 3s 46us/step - loss: 0.0687 - acc: 0.9814 - val_loss: 0.0757 - val_acc: 0.9779\n",
            "Epoch 24/100\n",
            "56000/56000 [==============================] - 3s 46us/step - loss: 0.0658 - acc: 0.9824 - val_loss: 0.0735 - val_acc: 0.9776\n",
            "Epoch 25/100\n",
            "56000/56000 [==============================] - 3s 49us/step - loss: 0.0634 - acc: 0.9830 - val_loss: 0.0711 - val_acc: 0.9792\n",
            "Epoch 26/100\n",
            "56000/56000 [==============================] - 3s 47us/step - loss: 0.0611 - acc: 0.9833 - val_loss: 0.0692 - val_acc: 0.9793\n",
            "Epoch 27/100\n",
            "56000/56000 [==============================] - 3s 46us/step - loss: 0.0586 - acc: 0.9842 - val_loss: 0.0670 - val_acc: 0.9796\n",
            "Epoch 28/100\n",
            "56000/56000 [==============================] - 3s 48us/step - loss: 0.0566 - acc: 0.9847 - val_loss: 0.0665 - val_acc: 0.9801\n",
            "Epoch 29/100\n",
            "56000/56000 [==============================] - 3s 46us/step - loss: 0.0546 - acc: 0.9852 - val_loss: 0.0642 - val_acc: 0.9807\n",
            "Epoch 30/100\n",
            "56000/56000 [==============================] - 3s 47us/step - loss: 0.0528 - acc: 0.9858 - val_loss: 0.0626 - val_acc: 0.9814\n",
            "Epoch 31/100\n",
            "56000/56000 [==============================] - 3s 48us/step - loss: 0.0511 - acc: 0.9865 - val_loss: 0.0616 - val_acc: 0.9820\n",
            "Epoch 32/100\n",
            "56000/56000 [==============================] - 3s 46us/step - loss: 0.0492 - acc: 0.9872 - val_loss: 0.0596 - val_acc: 0.9824\n",
            "Epoch 33/100\n",
            "56000/56000 [==============================] - 3s 46us/step - loss: 0.0478 - acc: 0.9871 - val_loss: 0.0591 - val_acc: 0.9827\n",
            "Epoch 34/100\n",
            "56000/56000 [==============================] - 3s 48us/step - loss: 0.0462 - acc: 0.9879 - val_loss: 0.0572 - val_acc: 0.9831\n",
            "Epoch 35/100\n",
            "56000/56000 [==============================] - 3s 47us/step - loss: 0.0448 - acc: 0.9881 - val_loss: 0.0568 - val_acc: 0.9832\n",
            "Epoch 36/100\n",
            "56000/56000 [==============================] - 3s 47us/step - loss: 0.0433 - acc: 0.9887 - val_loss: 0.0549 - val_acc: 0.9840\n",
            "Epoch 37/100\n",
            "56000/56000 [==============================] - 3s 47us/step - loss: 0.0420 - acc: 0.9892 - val_loss: 0.0545 - val_acc: 0.9841\n",
            "Epoch 38/100\n",
            "56000/56000 [==============================] - 3s 46us/step - loss: 0.0408 - acc: 0.9895 - val_loss: 0.0533 - val_acc: 0.9844\n",
            "Epoch 39/100\n",
            "56000/56000 [==============================] - 3s 47us/step - loss: 0.0397 - acc: 0.9897 - val_loss: 0.0535 - val_acc: 0.9839\n",
            "Epoch 40/100\n",
            "56000/56000 [==============================] - 3s 46us/step - loss: 0.0385 - acc: 0.9901 - val_loss: 0.0524 - val_acc: 0.9841\n",
            "Epoch 41/100\n",
            "56000/56000 [==============================] - 3s 47us/step - loss: 0.0374 - acc: 0.9902 - val_loss: 0.0511 - val_acc: 0.9844\n",
            "Epoch 42/100\n",
            "56000/56000 [==============================] - 3s 46us/step - loss: 0.0364 - acc: 0.9908 - val_loss: 0.0498 - val_acc: 0.9850\n",
            "Epoch 43/100\n",
            "56000/56000 [==============================] - 3s 46us/step - loss: 0.0353 - acc: 0.9912 - val_loss: 0.0498 - val_acc: 0.9854\n",
            "Epoch 44/100\n",
            "56000/56000 [==============================] - 3s 46us/step - loss: 0.0343 - acc: 0.9914 - val_loss: 0.0487 - val_acc: 0.9851\n",
            "Epoch 45/100\n",
            "56000/56000 [==============================] - 3s 46us/step - loss: 0.0335 - acc: 0.9917 - val_loss: 0.0487 - val_acc: 0.9853\n",
            "Epoch 46/100\n",
            "56000/56000 [==============================] - 3s 45us/step - loss: 0.0326 - acc: 0.9918 - val_loss: 0.0485 - val_acc: 0.9851\n",
            "Epoch 47/100\n",
            "56000/56000 [==============================] - 3s 46us/step - loss: 0.0318 - acc: 0.9919 - val_loss: 0.0464 - val_acc: 0.9856\n",
            "Epoch 48/100\n",
            "56000/56000 [==============================] - 3s 47us/step - loss: 0.0308 - acc: 0.9926 - val_loss: 0.0461 - val_acc: 0.9864\n",
            "Epoch 49/100\n",
            "56000/56000 [==============================] - 3s 46us/step - loss: 0.0302 - acc: 0.9926 - val_loss: 0.0453 - val_acc: 0.9863\n",
            "Epoch 50/100\n",
            "56000/56000 [==============================] - 3s 46us/step - loss: 0.0294 - acc: 0.9931 - val_loss: 0.0452 - val_acc: 0.9858\n",
            "Epoch 51/100\n",
            "56000/56000 [==============================] - 3s 47us/step - loss: 0.0287 - acc: 0.9932 - val_loss: 0.0446 - val_acc: 0.9863\n",
            "Epoch 52/100\n",
            "56000/56000 [==============================] - 3s 46us/step - loss: 0.0279 - acc: 0.9935 - val_loss: 0.0470 - val_acc: 0.9856\n",
            "Epoch 53/100\n",
            "56000/56000 [==============================] - 3s 46us/step - loss: 0.0273 - acc: 0.9936 - val_loss: 0.0434 - val_acc: 0.9868\n",
            "Epoch 54/100\n",
            "56000/56000 [==============================] - 3s 48us/step - loss: 0.0265 - acc: 0.9939 - val_loss: 0.0435 - val_acc: 0.9870\n",
            "Epoch 55/100\n",
            "56000/56000 [==============================] - 3s 46us/step - loss: 0.0259 - acc: 0.9941 - val_loss: 0.0431 - val_acc: 0.9865\n",
            "Epoch 56/100\n",
            "56000/56000 [==============================] - 3s 46us/step - loss: 0.0253 - acc: 0.9941 - val_loss: 0.0432 - val_acc: 0.9865\n",
            "Epoch 57/100\n",
            "56000/56000 [==============================] - 3s 48us/step - loss: 0.0247 - acc: 0.9944 - val_loss: 0.0421 - val_acc: 0.9871\n",
            "Epoch 58/100\n",
            "56000/56000 [==============================] - 3s 46us/step - loss: 0.0241 - acc: 0.9945 - val_loss: 0.0416 - val_acc: 0.9875\n",
            "Epoch 59/100\n",
            "56000/56000 [==============================] - 3s 46us/step - loss: 0.0236 - acc: 0.9948 - val_loss: 0.0413 - val_acc: 0.9874\n",
            "Epoch 60/100\n",
            "56000/56000 [==============================] - 3s 46us/step - loss: 0.0230 - acc: 0.9950 - val_loss: 0.0413 - val_acc: 0.9876\n",
            "Epoch 61/100\n",
            "56000/56000 [==============================] - 3s 47us/step - loss: 0.0226 - acc: 0.9950 - val_loss: 0.0410 - val_acc: 0.9871\n",
            "Epoch 62/100\n",
            "56000/56000 [==============================] - 3s 46us/step - loss: 0.0219 - acc: 0.9952 - val_loss: 0.0407 - val_acc: 0.9875\n",
            "Epoch 63/100\n",
            "56000/56000 [==============================] - 3s 46us/step - loss: 0.0215 - acc: 0.9953 - val_loss: 0.0401 - val_acc: 0.9876\n",
            "Epoch 64/100\n",
            "56000/56000 [==============================] - 3s 46us/step - loss: 0.0210 - acc: 0.9956 - val_loss: 0.0398 - val_acc: 0.9876\n",
            "Epoch 65/100\n",
            "56000/56000 [==============================] - 3s 48us/step - loss: 0.0206 - acc: 0.9958 - val_loss: 0.0402 - val_acc: 0.9871\n",
            "Epoch 66/100\n",
            "56000/56000 [==============================] - 3s 46us/step - loss: 0.0201 - acc: 0.9958 - val_loss: 0.0396 - val_acc: 0.9872\n",
            "Epoch 67/100\n",
            "56000/56000 [==============================] - 3s 48us/step - loss: 0.0197 - acc: 0.9960 - val_loss: 0.0395 - val_acc: 0.9879\n",
            "Epoch 68/100\n",
            "56000/56000 [==============================] - 3s 48us/step - loss: 0.0193 - acc: 0.9961 - val_loss: 0.0389 - val_acc: 0.9885\n",
            "Epoch 69/100\n",
            "56000/56000 [==============================] - 3s 49us/step - loss: 0.0189 - acc: 0.9961 - val_loss: 0.0392 - val_acc: 0.9875\n",
            "Epoch 70/100\n",
            "56000/56000 [==============================] - 3s 48us/step - loss: 0.0185 - acc: 0.9964 - val_loss: 0.0380 - val_acc: 0.9881\n",
            "Epoch 71/100\n",
            "56000/56000 [==============================] - 3s 48us/step - loss: 0.0180 - acc: 0.9966 - val_loss: 0.0389 - val_acc: 0.9880\n",
            "Epoch 72/100\n",
            "56000/56000 [==============================] - 3s 46us/step - loss: 0.0176 - acc: 0.9966 - val_loss: 0.0379 - val_acc: 0.9882\n",
            "Epoch 73/100\n",
            "56000/56000 [==============================] - 3s 46us/step - loss: 0.0174 - acc: 0.9968 - val_loss: 0.0377 - val_acc: 0.9884\n",
            "Epoch 74/100\n",
            "56000/56000 [==============================] - 3s 47us/step - loss: 0.0170 - acc: 0.9967 - val_loss: 0.0373 - val_acc: 0.9883\n",
            "Epoch 75/100\n",
            "56000/56000 [==============================] - 3s 46us/step - loss: 0.0167 - acc: 0.9968 - val_loss: 0.0371 - val_acc: 0.9881\n",
            "Epoch 76/100\n",
            "56000/56000 [==============================] - 3s 46us/step - loss: 0.0163 - acc: 0.9968 - val_loss: 0.0374 - val_acc: 0.9883\n",
            "Epoch 77/100\n",
            "56000/56000 [==============================] - 3s 48us/step - loss: 0.0160 - acc: 0.9971 - val_loss: 0.0370 - val_acc: 0.9884\n",
            "Epoch 78/100\n",
            "56000/56000 [==============================] - 3s 45us/step - loss: 0.0157 - acc: 0.9971 - val_loss: 0.0370 - val_acc: 0.9881\n",
            "Epoch 79/100\n",
            "56000/56000 [==============================] - 3s 46us/step - loss: 0.0154 - acc: 0.9974 - val_loss: 0.0362 - val_acc: 0.9891\n",
            "Epoch 80/100\n",
            "56000/56000 [==============================] - 3s 47us/step - loss: 0.0150 - acc: 0.9976 - val_loss: 0.0365 - val_acc: 0.9884\n",
            "Epoch 81/100\n",
            "56000/56000 [==============================] - 3s 46us/step - loss: 0.0148 - acc: 0.9976 - val_loss: 0.0362 - val_acc: 0.9885\n",
            "Epoch 82/100\n",
            "56000/56000 [==============================] - 3s 45us/step - loss: 0.0145 - acc: 0.9977 - val_loss: 0.0363 - val_acc: 0.9892\n",
            "Epoch 83/100\n",
            "56000/56000 [==============================] - 3s 45us/step - loss: 0.0142 - acc: 0.9976 - val_loss: 0.0362 - val_acc: 0.9886\n",
            "Epoch 84/100\n",
            "56000/56000 [==============================] - 3s 46us/step - loss: 0.0139 - acc: 0.9977 - val_loss: 0.0356 - val_acc: 0.9889\n",
            "Epoch 85/100\n",
            "56000/56000 [==============================] - 3s 46us/step - loss: 0.0137 - acc: 0.9978 - val_loss: 0.0354 - val_acc: 0.9885\n",
            "Epoch 86/100\n",
            "56000/56000 [==============================] - 3s 47us/step - loss: 0.0133 - acc: 0.9978 - val_loss: 0.0357 - val_acc: 0.9889\n",
            "Epoch 87/100\n",
            "56000/56000 [==============================] - 3s 46us/step - loss: 0.0131 - acc: 0.9981 - val_loss: 0.0355 - val_acc: 0.9886\n",
            "Epoch 88/100\n",
            "56000/56000 [==============================] - 3s 46us/step - loss: 0.0129 - acc: 0.9981 - val_loss: 0.0352 - val_acc: 0.9891\n",
            "Epoch 89/100\n",
            "56000/56000 [==============================] - 3s 46us/step - loss: 0.0127 - acc: 0.9981 - val_loss: 0.0351 - val_acc: 0.9889\n",
            "Epoch 90/100\n",
            "56000/56000 [==============================] - 3s 46us/step - loss: 0.0124 - acc: 0.9981 - val_loss: 0.0350 - val_acc: 0.9892\n",
            "Epoch 91/100\n",
            "56000/56000 [==============================] - 3s 46us/step - loss: 0.0122 - acc: 0.9983 - val_loss: 0.0350 - val_acc: 0.9891\n",
            "Epoch 92/100\n",
            "56000/56000 [==============================] - 3s 47us/step - loss: 0.0120 - acc: 0.9983 - val_loss: 0.0344 - val_acc: 0.9892\n",
            "Epoch 93/100\n",
            "56000/56000 [==============================] - 3s 46us/step - loss: 0.0117 - acc: 0.9984 - val_loss: 0.0348 - val_acc: 0.9891\n",
            "Epoch 94/100\n",
            "56000/56000 [==============================] - 3s 48us/step - loss: 0.0116 - acc: 0.9984 - val_loss: 0.0354 - val_acc: 0.9891\n",
            "Epoch 95/100\n",
            "56000/56000 [==============================] - 3s 46us/step - loss: 0.0114 - acc: 0.9984 - val_loss: 0.0343 - val_acc: 0.9893\n",
            "Epoch 96/100\n",
            "56000/56000 [==============================] - 3s 47us/step - loss: 0.0112 - acc: 0.9983 - val_loss: 0.0343 - val_acc: 0.9891\n",
            "Epoch 97/100\n",
            "56000/56000 [==============================] - 3s 48us/step - loss: 0.0110 - acc: 0.9985 - val_loss: 0.0341 - val_acc: 0.9894\n",
            "Epoch 98/100\n",
            "56000/56000 [==============================] - 3s 46us/step - loss: 0.0108 - acc: 0.9986 - val_loss: 0.0345 - val_acc: 0.9893\n",
            "Epoch 99/100\n",
            "56000/56000 [==============================] - 3s 47us/step - loss: 0.0106 - acc: 0.9987 - val_loss: 0.0340 - val_acc: 0.9894\n",
            "Epoch 100/100\n",
            "56000/56000 [==============================] - 3s 50us/step - loss: 0.0104 - acc: 0.9985 - val_loss: 0.0341 - val_acc: 0.9889\n"
          ],
          "name": "stdout"
        }
      ]
    },
    {
      "cell_type": "code",
      "metadata": {
        "id": "MRIb0Rc2IkkD",
        "colab_type": "code",
        "outputId": "5ab01dde-3273-470f-9657-7bed441a4a83",
        "colab": {
          "base_uri": "https://localhost:8080/",
          "height": 52
        }
      },
      "source": [
        "test_score = model.evaluate(x_test, y_test)\n",
        "print(\"Test loss {:.4f}, accuracy {:.2f}%\".format(test_score[0], test_score[1] * 100))"
      ],
      "execution_count": 0,
      "outputs": [
        {
          "output_type": "stream",
          "text": [
            "14000/14000 [==============================] - 1s 64us/step\n",
            "Test loss 0.0341, accuracy 98.89%\n"
          ],
          "name": "stdout"
        }
      ]
    },
    {
      "cell_type": "code",
      "metadata": {
        "id": "kd4T7YnlIqO2",
        "colab_type": "code",
        "outputId": "fe7c6b5c-1684-4740-c32d-13b15c091a2c",
        "colab": {
          "base_uri": "https://localhost:8080/",
          "height": 312
        }
      },
      "source": [
        "#plotting\n",
        "f, ax = plt.subplots()\n",
        "ax.plot([None] + hist.history[\"acc\"])\n",
        "ax.plot([None] + hist.history[\"val_acc\"])\n",
        "\n",
        "ax.legend([\"Train acc\", \"Validation acc\"], loc = 0)\n",
        "ax.set_title(\"Training/Validation acc per Epoch\")\n",
        "ax.set_xlabel(\"Epoch\")\n",
        "ax.set_ylabel(\"acc\") "
      ],
      "execution_count": 0,
      "outputs": [
        {
          "output_type": "execute_result",
          "data": {
            "text/plain": [
              "Text(0, 0.5, 'acc')"
            ]
          },
          "metadata": {
            "tags": []
          },
          "execution_count": 19
        },
        {
          "output_type": "display_data",
          "data": {
            "image/png": "[encoded data removed]",
            "text/plain": [
              "<Figure size 432x288 with 1 Axes>"
            ]
          },
          "metadata": {
            "tags": []
          }
        }
      ]
    },
    {
      "cell_type": "code",
      "metadata": {
        "id": "nmTYvp6SIrzq",
        "colab_type": "code",
        "outputId": "3546dfad-f5c8-4ffe-cfe5-ad4bd2334aba",
        "colab": {
          "base_uri": "https://localhost:8080/",
          "height": 312
        }
      },
      "source": [
        "#plotting\n",
        "f, ax = plt.subplots()\n",
        "ax.plot([None] + hist.history[\"loss\"])\n",
        "ax.plot([None] + hist.history[\"val_loss\"])\n",
        "\n",
        "ax.legend([\"Train acc\", \"Validation acc\"], loc = 0)\n",
        "ax.set_title(\"Training/Validation acc per Epoch\")\n",
        "ax.set_xlabel(\"Epoch\")\n",
        "ax.set_ylabel(\"acc\")"
      ],
      "execution_count": 0,
      "outputs": [
        {
          "output_type": "execute_result",
          "data": {
            "text/plain": [
              "Text(0, 0.5, 'acc')"
            ]
          },
          "metadata": {
            "tags": []
          },
          "execution_count": 20
        },
        {
          "output_type": "display_data",
          "data": {
            "image/png": "[encoded data removed]",
            "text/plain": [
              "<Figure size 432x288 with 1 Axes>"
            ]
          },
          "metadata": {
            "tags": []
          }
        }
      ]
    }
  ]
}