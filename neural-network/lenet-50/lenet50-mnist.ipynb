{
  "nbformat": 4,
  "nbformat_minor": 0,
  "metadata": {
    "colab": {
      "name": "LeNet50.ipynb",
      "provenance": [],
      "collapsed_sections": []
    },
    "kernelspec": {
      "name": "python3",
      "display_name": "Python 3"
    },
    "accelerator": "GPU"
  },
  "cells": [
    {
      "cell_type": "code",
      "metadata": {
        "id": "UhGsD1ftrNof",
        "colab_type": "code",
        "colab": {}
      },
      "source": [
        "# libs import\n",
        "from keras.layers.convolutional import Convolution2D\n",
        "from keras.layers.convolutional import MaxPooling2D\n",
        "from keras.layers.core import Activation\n",
        "from keras.layers.core import Flatten\n",
        "from keras.layers.core import Dense\n",
        "from keras.models import Sequential\n",
        "from keras import models, layers\n",
        "from keras.optimizers import SGD\n",
        "from keras.utils import np_utils\n",
        "from sklearn.model_selection import train_test_split\n",
        "from sklearn.datasets import fetch_openml\n",
        "from tensorflow.python.util import deprecation\n",
        "\n",
        "import matplotlib.pyplot as plt\n",
        "import numpy as np\n",
        "import keras"
      ],
      "execution_count": 0,
      "outputs": []
    },
    {
      "cell_type": "code",
      "metadata": {
        "id": "W4TwTyJ0wLbd",
        "colab_type": "code",
        "colab": {}
      },
      "source": [
        "# fetching dataset\n",
        "dataset = fetch_openml('mnist_784')\n",
        "\n",
        "# suppress warning\n",
        "deprecation._PRINT_DEPRECATION_WARNINGS = False"
      ],
      "execution_count": 0,
      "outputs": []
    },
    {
      "cell_type": "code",
      "metadata": {
        "id": "K_b5bg9n2pld",
        "colab_type": "code",
        "colab": {}
      },
      "source": [
        "# reshaping\n",
        "data = dataset.data.reshape((dataset.data.shape[0], 28, 28))\n",
        "\n",
        "# reshaping + add new axis\n",
        "data = data[:, :, :, np.newaxis]"
      ],
      "execution_count": 0,
      "outputs": []
    },
    {
      "cell_type": "code",
      "metadata": {
        "id": "NN6eZCox10n4",
        "colab_type": "code",
        "colab": {}
      },
      "source": [
        "# skalakan dari range 0-255 menjadi range 0-1\n",
        "scaled_data = data / 255.0"
      ],
      "execution_count": 0,
      "outputs": []
    },
    {
      "cell_type": "code",
      "metadata": {
        "id": "vbNP7zfmxKDG",
        "colab_type": "code",
        "colab": {}
      },
      "source": [
        "# split training & test\n",
        "(x_train, x_test, y_train, y_test) = train_test_split(\n",
        "    scaled_data,\n",
        "    dataset.target.astype(\"float32\"), \n",
        "    test_size = 0.20)"
      ],
      "execution_count": 0,
      "outputs": []
    },
    {
      "cell_type": "code",
      "metadata": {
        "id": "HQeVRhS44sw1",
        "colab_type": "code",
        "colab": {}
      },
      "source": [
        "# transformasi target training dengan one-hot encoding\n",
        "y_train = np_utils.to_categorical(y_train, 10)\n",
        "\n",
        "# transformasi target testing dengan one-hot encoding\n",
        "y_test = np_utils.to_categorical(y_test, 10)\n",
        "\n",
        "# One hot encoding is a process by which categorical variables are \n",
        "# converted into a form that could be provided to ML algorithms to \n",
        "# do a better job in prediction."
      ],
      "execution_count": 0,
      "outputs": []
    },
    {
      "cell_type": "code",
      "metadata": {
        "id": "qqphThjnxvLY",
        "colab_type": "code",
        "colab": {}
      },
      "source": [
        "# instantiasikan model sequential kosong\n",
        "model = Sequential()"
      ],
      "execution_count": 0,
      "outputs": []
    },
    {
      "cell_type": "code",
      "metadata": {
        "id": "yBG2AymYyWPz",
        "colab_type": "code",
        "colab": {}
      },
      "source": [
        "import warnings\n",
        "warnings.filterwarnings('ignore')"
      ],
      "execution_count": 0,
      "outputs": []
    },
    {
      "cell_type": "code",
      "metadata": {
        "id": "BDiTGS3M3kl2",
        "colab_type": "code",
        "colab": {}
      },
      "source": [
        "# C1 Convolutional Layer\n",
        "model.add(layers.Conv2D(6, kernel_size=(5, 5), strides=(1, 1), activation=\"tanh\", input_shape=(28,28,1), padding=\"same\"))\n",
        "\n",
        "# S2 Pooling/Subsampling Layer\n",
        "model.add(layers.AveragePooling2D(pool_size=(2, 2), strides=(1, 1), padding=\"valid\"))\n",
        "\n",
        "# C3 Convolutional Layer\n",
        "model.add(layers.Conv2D(16, kernel_size=(5, 5), strides=(1, 1), activation=\"tanh\", padding=\"valid\"))\n",
        "\n",
        "# S4 Pooling/Subsampling Layer\n",
        "model.add(layers.AveragePooling2D(pool_size=(2, 2), strides=(2, 2), padding=\"valid\"))\n",
        "\n",
        "# C5 Fully Connected Convolutional Layer\n",
        "model.add(layers.Conv2D(120, kernel_size=(5, 5), strides=(1, 1), activation=\"tanh\", padding=\"valid\"))\n",
        "\n",
        "#Flatten the CNN output so that we can connect it with fully connected layers\n",
        "model.add(layers.Flatten())\n",
        "\n",
        "# FC6 Fully Connected Layer\n",
        "model.add(layers.Dense(84, activation=\"tanh\"))\n",
        "\n",
        "#Output Layer (softmax activation)\n",
        "model.add(layers.Dense(10, activation=\"softmax\"))"
      ],
      "execution_count": 0,
      "outputs": []
    },
    {
      "cell_type": "code",
      "metadata": {
        "id": "eeH-A8u0x87_",
        "colab_type": "code",
        "colab": {}
      },
      "source": [
        "# model compiling\n",
        "model.compile(loss=keras.losses.categorical_crossentropy, optimizer=\"SGD\", metrics=[\"accuracy\"])"
      ],
      "execution_count": 0,
      "outputs": []
    },
    {
      "cell_type": "code",
      "metadata": {
        "id": "FF3ahqPQzS4p",
        "colab_type": "code",
        "outputId": "8a9fb142-f64c-447a-8082-57c0a416f2cc",
        "colab": {
          "base_uri": "https://localhost:8080/",
          "height": 1000
        }
      },
      "source": [
        "# epoch 50\n",
        "hist = model.fit(x=x_train,y=y_train, epochs=50, batch_size=128, validation_data=(x_test, y_test), verbose=1)"
      ],
      "execution_count": 0,
      "outputs": [
        {
          "output_type": "stream",
          "text": [
            "Train on 56000 samples, validate on 14000 samples\n",
            "Epoch 1/50\n",
            "56000/56000 [==============================] - 3s 55us/step - loss: 0.6889 - acc: 0.8356 - val_loss: 0.3607 - val_acc: 0.8958\n",
            "Epoch 2/50\n",
            "56000/56000 [==============================] - 3s 52us/step - loss: 0.3135 - acc: 0.9120 - val_loss: 0.2845 - val_acc: 0.9203\n",
            "Epoch 3/50\n",
            "56000/56000 [==============================] - 3s 50us/step - loss: 0.2580 - acc: 0.9272 - val_loss: 0.2450 - val_acc: 0.9289\n",
            "Epoch 4/50\n",
            "56000/56000 [==============================] - 3s 51us/step - loss: 0.2239 - acc: 0.9356 - val_loss: 0.2168 - val_acc: 0.9379\n",
            "Epoch 5/50\n",
            "56000/56000 [==============================] - 3s 49us/step - loss: 0.1997 - acc: 0.9431 - val_loss: 0.1978 - val_acc: 0.9432\n",
            "Epoch 6/50\n",
            "56000/56000 [==============================] - 3s 53us/step - loss: 0.1810 - acc: 0.9484 - val_loss: 0.1826 - val_acc: 0.9472\n",
            "Epoch 7/50\n",
            "56000/56000 [==============================] - 3s 51us/step - loss: 0.1654 - acc: 0.9532 - val_loss: 0.1710 - val_acc: 0.9515\n",
            "Epoch 8/50\n",
            "56000/56000 [==============================] - 3s 50us/step - loss: 0.1525 - acc: 0.9569 - val_loss: 0.1571 - val_acc: 0.9547\n",
            "Epoch 9/50\n",
            "56000/56000 [==============================] - 3s 49us/step - loss: 0.1412 - acc: 0.9600 - val_loss: 0.1481 - val_acc: 0.9571\n",
            "Epoch 10/50\n",
            "56000/56000 [==============================] - 3s 49us/step - loss: 0.1316 - acc: 0.9630 - val_loss: 0.1387 - val_acc: 0.9596\n",
            "Epoch 11/50\n",
            "56000/56000 [==============================] - 3s 53us/step - loss: 0.1230 - acc: 0.9653 - val_loss: 0.1305 - val_acc: 0.9621\n",
            "Epoch 12/50\n",
            "56000/56000 [==============================] - 3s 49us/step - loss: 0.1151 - acc: 0.9683 - val_loss: 0.1241 - val_acc: 0.9630\n",
            "Epoch 13/50\n",
            "56000/56000 [==============================] - 3s 53us/step - loss: 0.1085 - acc: 0.9699 - val_loss: 0.1179 - val_acc: 0.9656\n",
            "Epoch 14/50\n",
            "56000/56000 [==============================] - 3s 52us/step - loss: 0.1023 - acc: 0.9715 - val_loss: 0.1131 - val_acc: 0.9666\n",
            "Epoch 15/50\n",
            "56000/56000 [==============================] - 3s 53us/step - loss: 0.0969 - acc: 0.9729 - val_loss: 0.1081 - val_acc: 0.9687\n",
            "Epoch 16/50\n",
            "56000/56000 [==============================] - 3s 51us/step - loss: 0.0916 - acc: 0.9747 - val_loss: 0.1027 - val_acc: 0.9699\n",
            "Epoch 17/50\n",
            "56000/56000 [==============================] - 3s 50us/step - loss: 0.0870 - acc: 0.9760 - val_loss: 0.0989 - val_acc: 0.9715\n",
            "Epoch 18/50\n",
            "56000/56000 [==============================] - 3s 51us/step - loss: 0.0830 - acc: 0.9773 - val_loss: 0.0952 - val_acc: 0.9724\n",
            "Epoch 19/50\n",
            "56000/56000 [==============================] - 3s 48us/step - loss: 0.0789 - acc: 0.9782 - val_loss: 0.0919 - val_acc: 0.9731\n",
            "Epoch 20/50\n",
            "56000/56000 [==============================] - 3s 51us/step - loss: 0.0754 - acc: 0.9795 - val_loss: 0.0886 - val_acc: 0.9744\n",
            "Epoch 21/50\n",
            "56000/56000 [==============================] - 3s 52us/step - loss: 0.0721 - acc: 0.9804 - val_loss: 0.0859 - val_acc: 0.9751\n",
            "Epoch 22/50\n",
            "56000/56000 [==============================] - 3s 51us/step - loss: 0.0689 - acc: 0.9814 - val_loss: 0.0831 - val_acc: 0.9762\n",
            "Epoch 23/50\n",
            "56000/56000 [==============================] - 3s 52us/step - loss: 0.0662 - acc: 0.9824 - val_loss: 0.0808 - val_acc: 0.9761\n",
            "Epoch 24/50\n",
            "56000/56000 [==============================] - 3s 49us/step - loss: 0.0635 - acc: 0.9830 - val_loss: 0.0799 - val_acc: 0.9769\n",
            "Epoch 25/50\n",
            "56000/56000 [==============================] - 3s 49us/step - loss: 0.0612 - acc: 0.9837 - val_loss: 0.0753 - val_acc: 0.9777\n",
            "Epoch 26/50\n",
            "56000/56000 [==============================] - 3s 50us/step - loss: 0.0589 - acc: 0.9840 - val_loss: 0.0740 - val_acc: 0.9782\n",
            "Epoch 27/50\n",
            "56000/56000 [==============================] - 3s 47us/step - loss: 0.0566 - acc: 0.9852 - val_loss: 0.0714 - val_acc: 0.9791\n",
            "Epoch 28/50\n",
            "56000/56000 [==============================] - 3s 49us/step - loss: 0.0547 - acc: 0.9851 - val_loss: 0.0700 - val_acc: 0.9789\n",
            "Epoch 29/50\n",
            "56000/56000 [==============================] - 3s 49us/step - loss: 0.0526 - acc: 0.9861 - val_loss: 0.0683 - val_acc: 0.9799\n",
            "Epoch 30/50\n",
            "56000/56000 [==============================] - 3s 50us/step - loss: 0.0511 - acc: 0.9865 - val_loss: 0.0687 - val_acc: 0.9794\n",
            "Epoch 31/50\n",
            "56000/56000 [==============================] - 3s 49us/step - loss: 0.0494 - acc: 0.9869 - val_loss: 0.0661 - val_acc: 0.9802\n",
            "Epoch 32/50\n",
            "56000/56000 [==============================] - 3s 51us/step - loss: 0.0477 - acc: 0.9874 - val_loss: 0.0646 - val_acc: 0.9810\n",
            "Epoch 33/50\n",
            "56000/56000 [==============================] - 3s 48us/step - loss: 0.0462 - acc: 0.9877 - val_loss: 0.0641 - val_acc: 0.9809\n",
            "Epoch 34/50\n",
            "56000/56000 [==============================] - 3s 53us/step - loss: 0.0448 - acc: 0.9883 - val_loss: 0.0621 - val_acc: 0.9813\n",
            "Epoch 35/50\n",
            "56000/56000 [==============================] - 3s 51us/step - loss: 0.0433 - acc: 0.9886 - val_loss: 0.0610 - val_acc: 0.9816\n",
            "Epoch 36/50\n",
            "56000/56000 [==============================] - 3s 52us/step - loss: 0.0420 - acc: 0.9890 - val_loss: 0.0601 - val_acc: 0.9819\n",
            "Epoch 37/50\n",
            "56000/56000 [==============================] - 3s 52us/step - loss: 0.0408 - acc: 0.9895 - val_loss: 0.0590 - val_acc: 0.9823\n",
            "Epoch 38/50\n",
            "56000/56000 [==============================] - 3s 50us/step - loss: 0.0397 - acc: 0.9897 - val_loss: 0.0576 - val_acc: 0.9819\n",
            "Epoch 39/50\n",
            "56000/56000 [==============================] - 3s 47us/step - loss: 0.0385 - acc: 0.9900 - val_loss: 0.0569 - val_acc: 0.9824\n",
            "Epoch 40/50\n",
            "56000/56000 [==============================] - 3s 51us/step - loss: 0.0374 - acc: 0.9905 - val_loss: 0.0566 - val_acc: 0.9823\n",
            "Epoch 41/50\n",
            "56000/56000 [==============================] - 3s 52us/step - loss: 0.0365 - acc: 0.9906 - val_loss: 0.0569 - val_acc: 0.9834\n",
            "Epoch 42/50\n",
            "56000/56000 [==============================] - 3s 48us/step - loss: 0.0354 - acc: 0.9910 - val_loss: 0.0582 - val_acc: 0.9820\n",
            "Epoch 43/50\n",
            "56000/56000 [==============================] - 3s 51us/step - loss: 0.0346 - acc: 0.9911 - val_loss: 0.0538 - val_acc: 0.9829\n",
            "Epoch 44/50\n",
            "56000/56000 [==============================] - 3s 50us/step - loss: 0.0335 - acc: 0.9916 - val_loss: 0.0536 - val_acc: 0.9836\n",
            "Epoch 45/50\n",
            "56000/56000 [==============================] - 3s 51us/step - loss: 0.0327 - acc: 0.9918 - val_loss: 0.0535 - val_acc: 0.9836\n",
            "Epoch 46/50\n",
            "56000/56000 [==============================] - 3s 49us/step - loss: 0.0320 - acc: 0.9921 - val_loss: 0.0517 - val_acc: 0.9840\n",
            "Epoch 47/50\n",
            "56000/56000 [==============================] - 3s 49us/step - loss: 0.0311 - acc: 0.9920 - val_loss: 0.0514 - val_acc: 0.9842\n",
            "Epoch 48/50\n",
            "56000/56000 [==============================] - 3s 52us/step - loss: 0.0303 - acc: 0.9925 - val_loss: 0.0508 - val_acc: 0.9840\n",
            "Epoch 49/50\n",
            "56000/56000 [==============================] - 3s 50us/step - loss: 0.0297 - acc: 0.9927 - val_loss: 0.0502 - val_acc: 0.9842\n",
            "Epoch 50/50\n",
            "56000/56000 [==============================] - 3s 53us/step - loss: 0.0288 - acc: 0.9931 - val_loss: 0.0504 - val_acc: 0.9842\n"
          ],
          "name": "stdout"
        }
      ]
    },
    {
      "cell_type": "code",
      "metadata": {
        "id": "yyVkdZKl1Upl",
        "colab_type": "code",
        "outputId": "3d16f759-da83-43cf-be52-26d881380d8d",
        "colab": {
          "base_uri": "https://localhost:8080/",
          "height": 52
        }
      },
      "source": [
        "test_score = model.evaluate(x_test, y_test)\n",
        "print(\"Test loss {:.4f}, accuracy {:.2f}%\".format(test_score[0], test_score[1] * 100))"
      ],
      "execution_count": 0,
      "outputs": [
        {
          "output_type": "stream",
          "text": [
            "14000/14000 [==============================] - 1s 52us/step\n",
            "Test loss 0.0504, accuracy 98.42%\n"
          ],
          "name": "stdout"
        }
      ]
    },
    {
      "cell_type": "code",
      "metadata": {
        "id": "ZMuwlHrk3c9P",
        "colab_type": "code",
        "outputId": "2b3b3473-3f02-4517-db28-9fdcf1b87281",
        "colab": {
          "base_uri": "https://localhost:8080/",
          "height": 312
        }
      },
      "source": [
        "#plotting\n",
        "f, ax = plt.subplots()\n",
        "ax.plot([None] + hist.history[\"acc\"], \"o-\")\n",
        "ax.plot([None] + hist.history[\"val_acc\"], \"x-\")\n",
        "\n",
        "ax.legend([\"Train acc\", \"Validation acc\"], loc = 0)\n",
        "ax.set_title(\"Training/Validation acc per Epoch\")\n",
        "ax.set_xlabel(\"Epoch\")\n",
        "ax.set_ylabel(\"acc\") "
      ],
      "execution_count": 0,
      "outputs": [
        {
          "output_type": "execute_result",
          "data": {
            "text/plain": [
              "Text(0, 0.5, 'acc')"
            ]
          },
          "metadata": {
            "tags": []
          },
          "execution_count": 28
        },
        {
          "output_type": "display_data",
          "data": {
            "image/png": "[encoded data removed]",
            "text/plain": [
              "<Figure size 432x288 with 1 Axes>"
            ]
          },
          "metadata": {
            "tags": []
          }
        }
      ]
    },
    {
      "cell_type": "code",
      "metadata": {
        "id": "Qd1nDe5D5YiI",
        "colab_type": "code",
        "outputId": "8b0a6439-6d69-44ee-c938-407a66a1e0c4",
        "colab": {
          "base_uri": "https://localhost:8080/",
          "height": 312
        }
      },
      "source": [
        "#plotting\n",
        "f, ax = plt.subplots()\n",
        "ax.plot([None] + hist.history[\"loss\"])\n",
        "ax.plot([None] + hist.history[\"val_loss\"])\n",
        "\n",
        "ax.legend([\"Train acc\", \"Validation acc\"], loc = 0)\n",
        "ax.set_title(\"Training/Validation acc per Epoch\")\n",
        "ax.set_xlabel(\"Epoch\")\n",
        "ax.set_ylabel(\"acc\")"
      ],
      "execution_count": 0,
      "outputs": [
        {
          "output_type": "execute_result",
          "data": {
            "text/plain": [
              "Text(0, 0.5, 'acc')"
            ]
          },
          "metadata": {
            "tags": []
          },
          "execution_count": 29
        },
        {
          "output_type": "display_data",
          "data": {
            "image/png": "[encoded data removed]",
            "text/plain": [
              "<Figure size 432x288 with 1 Axes>"
            ]
          },
          "metadata": {
            "tags": []
          }
        }
      ]
    }
  ]
}